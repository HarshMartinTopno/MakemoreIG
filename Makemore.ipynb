{
  "nbformat": 4,
  "nbformat_minor": 0,
  "metadata": {
    "colab": {
      "provenance": [],
      "authorship_tag": "ABX9TyMjE1ayyfB3gvNstJ5GOiQF",
      "include_colab_link": true
    },
    "kernelspec": {
      "name": "python3",
      "display_name": "Python 3"
    },
    "language_info": {
      "name": "python"
    }
  },
  "cells": [
    {
      "cell_type": "markdown",
      "metadata": {
        "id": "view-in-github",
        "colab_type": "text"
      },
      "source": [
        "<a href=\"https://colab.research.google.com/github/HarshMartinTopno/MakemoreIG/blob/main/Makemore.ipynb\" target=\"_parent\"><img src=\"https://colab.research.google.com/assets/colab-badge.svg\" alt=\"Open In Colab\"/></a>"
      ]
    },
    {
      "cell_type": "code",
      "execution_count": null,
      "metadata": {
        "id": "ZlEBMnq5WXAd"
      },
      "outputs": [],
      "source": [
        "names = open(\"names.txt\", 'r').read().splitlines()"
      ]
    },
    {
      "cell_type": "code",
      "source": [
        "names[:5]"
      ],
      "metadata": {
        "colab": {
          "base_uri": "https://localhost:8080/"
        },
        "id": "7DChbt6PF_4X",
        "outputId": "bdc84723-6378-4400-c5c2-b1db8049ee30"
      },
      "execution_count": null,
      "outputs": [
        {
          "output_type": "execute_result",
          "data": {
            "text/plain": [
              "['emma', 'olivia', 'ava', 'isabella', 'sophia']"
            ]
          },
          "metadata": {},
          "execution_count": 2
        }
      ]
    },
    {
      "cell_type": "code",
      "source": [
        "hp = open(\"harry_potter_text.txt\", 'r').read().splitlines()"
      ],
      "metadata": {
        "id": "mQ78b8EMGCwQ"
      },
      "execution_count": null,
      "outputs": []
    },
    {
      "cell_type": "code",
      "source": [
        "hp[:10]"
      ],
      "metadata": {
        "colab": {
          "base_uri": "https://localhost:8080/"
        },
        "id": "7SniuUx-GNFF",
        "outputId": "559ea37e-caef-453f-a9c5-5e3448d969fc"
      },
      "execution_count": null,
      "outputs": [
        {
          "output_type": "execute_result",
          "data": {
            "text/plain": [
              "['preprocessed_text',\n",
              " 'THE BOY WHO LIVED Mr Mrs Dursley number',\n",
              " 'four Privet Drive proud say perfectly normal',\n",
              " 'thank much They last people youd expect',\n",
              " 'involved anything strange mysterious didnt hold',\n",
              " 'nonsense Mr Dursley director firm',\n",
              " 'called Grunnings made drills He big beefy man',\n",
              " 'hardly neck although large mustache Mrs',\n",
              " 'Dursley thin blonde nearly twice usual amount',\n",
              " 'neck came useful spent much']"
            ]
          },
          "metadata": {},
          "execution_count": 4
        }
      ]
    },
    {
      "cell_type": "code",
      "source": [
        "hp[1].split()"
      ],
      "metadata": {
        "colab": {
          "base_uri": "https://localhost:8080/"
        },
        "id": "WrIQrVtSGa43",
        "outputId": "e65ac6e0-3fb7-45c4-df31-d4544d3e8dc0"
      },
      "execution_count": null,
      "outputs": [
        {
          "output_type": "execute_result",
          "data": {
            "text/plain": [
              "['THE', 'BOY', 'WHO', 'LIVED', 'Mr', 'Mrs', 'Dursley', 'number']"
            ]
          },
          "metadata": {},
          "execution_count": 5
        }
      ]
    },
    {
      "cell_type": "code",
      "source": [
        "# Creating a list containing words instead of sentences\n",
        "words = []\n",
        "for string in hp:\n",
        "  for word in string.split():\n",
        "    words.append(word)"
      ],
      "metadata": {
        "id": "CCYkBI0JGwUs"
      },
      "execution_count": null,
      "outputs": []
    },
    {
      "cell_type": "code",
      "source": [
        "words[:10]"
      ],
      "metadata": {
        "colab": {
          "base_uri": "https://localhost:8080/"
        },
        "id": "MxFz0sfZHDOU",
        "outputId": "a19d6bb2-116c-4e2d-ddd4-29e622b96d29"
      },
      "execution_count": null,
      "outputs": [
        {
          "output_type": "execute_result",
          "data": {
            "text/plain": [
              "['preprocessed_text',\n",
              " 'THE',\n",
              " 'BOY',\n",
              " 'WHO',\n",
              " 'LIVED',\n",
              " 'Mr',\n",
              " 'Mrs',\n",
              " 'Dursley',\n",
              " 'number',\n",
              " 'four']"
            ]
          },
          "metadata": {},
          "execution_count": 7
        }
      ]
    },
    {
      "cell_type": "code",
      "source": [
        "# saving the newly made list into a txt file\n",
        "with open(\"hp_text.txt\", \"w\") as output:\n",
        "  output.write(str(words))"
      ],
      "metadata": {
        "id": "10lk1nZrHbST"
      },
      "execution_count": null,
      "outputs": []
    },
    {
      "cell_type": "code",
      "source": [
        "# Checking the frequency of each word in 'names'\n",
        "from collections import Counter\n",
        "Counter(names).most_common(10)"
      ],
      "metadata": {
        "colab": {
          "base_uri": "https://localhost:8080/"
        },
        "id": "kELfkc56IPuA",
        "outputId": "2764ad9c-52b1-4566-c220-8a353f1b3454"
      },
      "execution_count": null,
      "outputs": [
        {
          "output_type": "execute_result",
          "data": {
            "text/plain": [
              "[('emma', 2),\n",
              " ('olivia', 2),\n",
              " ('ava', 2),\n",
              " ('isabella', 2),\n",
              " ('sophia', 2),\n",
              " ('charlotte', 2),\n",
              " ('mia', 2),\n",
              " ('amelia', 2),\n",
              " ('harper', 2),\n",
              " ('evelyn', 2)]"
            ]
          },
          "metadata": {},
          "execution_count": 9
        }
      ]
    },
    {
      "cell_type": "code",
      "source": [
        "# Checking the frequency of each word in 'hp_text'\n",
        "from collections import Counter\n",
        "Counter(words).most_common(10)"
      ],
      "metadata": {
        "colab": {
          "base_uri": "https://localhost:8080/"
        },
        "id": "dSUP4NxlIxaF",
        "outputId": "bf805f60-9d1b-459b-93d2-9fdadfc1e743"
      },
      "execution_count": null,
      "outputs": [
        {
          "output_type": "execute_result",
          "data": {
            "text/plain": [
              "[('Harry', 15942),\n",
              " ('said', 14343),\n",
              " ('I', 9877),\n",
              " ('Ron', 5568),\n",
              " ('He', 5073),\n",
              " ('Hermione', 4752),\n",
              " ('The', 3445),\n",
              " ('back', 3142),\n",
              " ('Dumbledore', 2787),\n",
              " ('could', 2753)]"
            ]
          },
          "metadata": {},
          "execution_count": 10
        }
      ]
    },
    {
      "cell_type": "code",
      "source": [
        "# making sure that the list contains only unique values\n",
        "words = list(set(words))"
      ],
      "metadata": {
        "id": "JUy8gZN7I-Aq"
      },
      "execution_count": null,
      "outputs": []
    },
    {
      "cell_type": "code",
      "source": [
        "from collections import Counter\n",
        "Counter(words).most_common(10)"
      ],
      "metadata": {
        "colab": {
          "base_uri": "https://localhost:8080/"
        },
        "id": "SIiJv8-aJa_M",
        "outputId": "847648da-3bfc-40a0-f9f6-cb0067364fac"
      },
      "execution_count": null,
      "outputs": [
        {
          "output_type": "execute_result",
          "data": {
            "text/plain": [
              "[('plinth', 1),\n",
              " ('carousel', 1),\n",
              " ('unsafe', 1),\n",
              " ('distressing', 1),\n",
              " ('Nex', 1),\n",
              " ('bowtruckle', 1),\n",
              " ('WIN', 1),\n",
              " ('Goldstein', 1),\n",
              " ('Bills', 1),\n",
              " ('jacketed', 1)]"
            ]
          },
          "metadata": {},
          "execution_count": 12
        }
      ]
    },
    {
      "cell_type": "code",
      "source": [],
      "metadata": {
        "id": "U-wIJtRPJdKj"
      },
      "execution_count": null,
      "outputs": []
    }
  ]
}